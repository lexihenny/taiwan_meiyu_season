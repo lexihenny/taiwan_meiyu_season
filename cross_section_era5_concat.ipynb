{
 "cells": [
  {
   "cell_type": "code",
   "execution_count": null,
   "id": "1657b987",
   "metadata": {},
   "outputs": [],
   "source": [
    "import numpy as np\n",
    "import xarray as xr\n",
    "import matplotlib.pyplot as plt\n",
    "import cartopy.crs as ccrs\n",
    "from cartopy.mpl.gridliner import LONGITUDE_FORMATTER,LATITUDE_FORMATTER\n",
    "import os,errno\n",
    "import sys\n",
    "import cartopy.feature as cfeature\n",
    "import matplotlib.ticker as mticker\n",
    "import pandas as pd\n",
    "import datetime as dt\n",
    "from scipy.ndimage.measurements import label\n",
    "from math import sin, cos, sqrt, atan2, radians\n",
    "import geopy.distance\n",
    "%matplotlib inline\n",
    "\n",
    "dir2='/thorncroftlab_rit/ahenny/rain/'\n",
    "dir1='/thorncroftlab_rit/ahenny/rain/US/ghcnd_all/'\n",
    "dir='/thorncroftlab_rit/ahenny/rain/DISSERTATION_SCRIPTS_RESULTS/'\n",
    "#This script was simply to concatenate data I had downloaded in chunks"
   ]
  },
  {
   "cell_type": "code",
   "execution_count": null,
   "id": "689988a2",
   "metadata": {},
   "outputs": [],
   "source": [
    "ds1=xr.open_dataset(dir+'era_5_taiwan_xc_5.nc')\n",
    "u1=ds1.u\n",
    "ds2=xr.open_dataset(dir+'era_5_taiwan_u_xc_61.nc')\n",
    "u2=ds2.u\n",
    "ds3=xr.open_dataset(dir+'era_5_taiwan_u_xc_62.nc')\n",
    "u3=ds3.u\n",
    "u_concat=xr.concat([u1,u2,u3],dim='time')\n",
    "print(u_concat)"
   ]
  },
  {
   "cell_type": "code",
   "execution_count": null,
   "id": "5cbb96eb",
   "metadata": {},
   "outputs": [],
   "source": [
    "ds1=xr.open_dataset(dir+'era_5_taiwan_v_xc_5.nc')\n",
    "v1=ds1.v\n",
    "ds2=xr.open_dataset(dir+'era_5_taiwan_v_xc_61.nc')\n",
    "v2=ds2.v\n",
    "ds3=xr.open_dataset(dir+'era_5_taiwan_v_xc_62.nc')\n",
    "v3=ds3.v\n",
    "v_concat=xr.concat([v1,v2,v3],dim='time')\n",
    "print(v_concat)"
   ]
  },
  {
   "cell_type": "code",
   "execution_count": null,
   "id": "a90a43c1",
   "metadata": {},
   "outputs": [],
   "source": [
    "ds1=xr.open_dataset(dir+'era_5_taiwan_q_xc_5.nc')\n",
    "q1=ds1.q\n",
    "ds2=xr.open_dataset(dir+'era_5_taiwan_q_xc_61.nc')\n",
    "q2=ds2.q\n",
    "ds3=xr.open_dataset(dir+'era_5_taiwan_q_xc_62.nc')\n",
    "q3=ds3.q\n",
    "q_concat=xr.concat([q1,q2,q3],dim='time')\n",
    "print(q_concat)"
   ]
  },
  {
   "cell_type": "code",
   "execution_count": null,
   "id": "cf0a8625",
   "metadata": {},
   "outputs": [],
   "source": [
    "yrs_neusa=np.arange(1979,2020,1)\n",
    "for i in range(len(yrs_neusa)):\n",
    "#for i in range(2):\n",
    "    year=yrs_neusa[i]\n",
    "    date_start=dt.datetime(year,5,14,18)\n",
    "    date_range=[date_start+dt.timedelta(hours=6*x) for x in range(47*4)]\n",
    "    if i==0:\n",
    "        dates_all=date_range\n",
    "    else:\n",
    "        dates_all=dates_all+date_range\n",
    "print(dates_all) "
   ]
  },
  {
   "cell_type": "code",
   "execution_count": null,
   "id": "54f86296",
   "metadata": {},
   "outputs": [],
   "source": [
    "u_concat_select=u_concat.sel(time=dates_all)\n",
    "v_concat_select=v_concat.sel(time=dates_all)\n",
    "q_concat_select=q_concat.sel(time=dates_all)\n",
    "print(q_concat_select)"
   ]
  },
  {
   "cell_type": "code",
   "execution_count": null,
   "id": "e9b0a775",
   "metadata": {},
   "outputs": [],
   "source": [
    "mflux_x_concat_select=q_concat_select*u_concat_select\n",
    "mflux_y_concat_select=q_concat_select*v_concat_select"
   ]
  },
  {
   "cell_type": "code",
   "execution_count": null,
   "id": "d0462f83",
   "metadata": {},
   "outputs": [],
   "source": [
    "dk=xr.Dataset()\n",
    "dk['u']=(('time','level','latitude','longitude'),u_concat_select)\n",
    "dk['v']=(('time','level','latitude','longitude'),v_concat_select)\n",
    "dk['q']=(('time','level','latitude','longitude'),q_concat_select)\n",
    "dk['mflux_x']=(('time','level','latitude','longitude'),mflux_x_concat_select)\n",
    "dk['mflux_y']=(('time','level','latitude','longitude'),mflux_y_concat_select)\n",
    "dk.coords['time']=u_concat_select.time\n",
    "dk.coords['level']=u_concat_select.level\n",
    "dk.coords['latitude']=u_concat_select.latitude\n",
    "dk.coords['longitude']=u_concat_select.longitude\n",
    "dk.to_netcdf(dir+'era_5_taiwan_xc_vars.nc',mode='w',format='NETCDF4')"
   ]
  },
  {
   "cell_type": "code",
   "execution_count": null,
   "id": "a073f029",
   "metadata": {},
   "outputs": [],
   "source": []
  }
 ],
 "metadata": {
  "kernelspec": {
   "display_name": "Python 3 June 2020 Environment",
   "language": "python",
   "name": "jun20"
  },
  "language_info": {
   "codemirror_mode": {
    "name": "ipython",
    "version": 3
   },
   "file_extension": ".py",
   "mimetype": "text/x-python",
   "name": "python",
   "nbconvert_exporter": "python",
   "pygments_lexer": "ipython3",
   "version": "3.7.6"
  }
 },
 "nbformat": 4,
 "nbformat_minor": 5
}
