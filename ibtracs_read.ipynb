{
 "cells": [
  {
   "cell_type": "code",
   "execution_count": null,
   "id": "sporting-contest",
   "metadata": {},
   "outputs": [],
   "source": [
    "import numpy as np\n",
    "import xarray as xr\n",
    "import matplotlib.pyplot as plt\n",
    "import cartopy.crs as ccrs\n",
    "from cartopy.mpl.gridliner import LONGITUDE_FORMATTER,LATITUDE_FORMATTER\n",
    "import os,errno\n",
    "import sys\n",
    "import cartopy.feature as cfeature\n",
    "import matplotlib.ticker as mticker\n",
    "import pandas as pd\n",
    "import datetime as dt\n",
    "from scipy.ndimage.measurements import label\n",
    "from math import sin, cos, sqrt, atan2, radians\n",
    "import geopy.distance\n",
    "%matplotlib inline\n",
    "\n",
    "dir2='/thorncroftlab_rit/ahenny/rain/'\n",
    "dir1='/thorncroftlab_rit/ahenny/rain/US/ghcnd_all/'\n",
    "dir='/thorncroftlab_rit/ahenny/rain/DISSERTATION_SCRIPTS_RESULTS/'"
   ]
  },
  {
   "cell_type": "code",
   "execution_count": null,
   "id": "declared-asthma",
   "metadata": {},
   "outputs": [],
   "source": [
    "#read IBTrACS data and convert into simpler format\n",
    "\n",
    "#ds=xr.open_dataset(dir+'IBTrACS.NA.v04r00.nc')\n",
    "ds=xr.open_dataset(dir+'IBTrACS.WP.v04r00.nc')\n",
    "print(ds)\n",
    "print(ds['track_type'])\n",
    "#print(ds['mlc_class'])\n",
    "print(ds['neumann_class'])\n",
    "print(ds['nature'][185].values.tolist())\n",
    "print(list(set(ds['nature'].values.flatten().tolist())))\n",
    "if ds['nature'][100].values.tolist()[0]==b'TS':\n",
    "    print('YES')"
   ]
  },
  {
   "cell_type": "code",
   "execution_count": null,
   "id": "sustainable-rates",
   "metadata": {
    "scrolled": true
   },
   "outputs": [],
   "source": [
    "#First - load dataset and convert times into round numbers of hours (they seem to have .0004..on the end)\n",
    "#Also replace weird NaN values with np.nan\n",
    "ds=xr.open_dataset(dir+'IBTrACS.WP.v04r00.nc')\n",
    "#print(ds)\n",
    "time=ds.time.values\n",
    "lat=ds.lat\n",
    "lon=ds.lon\n",
    "nature_tc=ds.nature.values\n",
    "years=np.zeros((ds.storm.size,ds.date_time.size))\n",
    "months=np.zeros((ds.storm.size,ds.date_time.size))\n",
    "days=np.zeros((ds.storm.size,ds.date_time.size))\n",
    "hours=np.zeros((ds.storm.size,ds.date_time.size))\n",
    "nature=np.zeros((ds.storm.size,ds.date_time.size))\n",
    "for i in range(ds.storm.size):\n",
    "    print(i)\n",
    "    for j in range(ds.date_time.size):\n",
    "        time_single=time[i,j]\n",
    "        time_single=pd.to_datetime(time_single)\n",
    "        year=time_single.year\n",
    "        month=time_single.month\n",
    "        day=time_single.day\n",
    "        hour=time_single.hour\n",
    "        nature_value=nature_tc[i,j]\n",
    "        if year>0 and month>0 and day>0 and hour>=0:\n",
    "            years[i,j]=year\n",
    "            months[i,j]=month\n",
    "            days[i,j]=day\n",
    "            hours[i,j]=hour\n",
    "            if nature_value==b'TS':\n",
    "                nature[i,j]=1\n",
    "            else:\n",
    "                nature[i,j]=0\n",
    "        else:\n",
    "            years[i,j]=np.nan\n",
    "            months[i,j]=np.nan\n",
    "            days[i,j]=np.nan\n",
    "            hours[i,j]=np.nan\n",
    "            nature[i,j]=np.nan\n",
    "\n",
    "dk=xr.Dataset()\n",
    "dk['years']=(('storm','date_time'),years)\n",
    "dk['months']=(('storm','date_time'),months)\n",
    "dk['days']=(('storm','date_time'),days)\n",
    "dk['hours']=(('storm','date_time'),hours)\n",
    "dk['nature']=(('storm','date_time'),nature)\n",
    "dk.coords['storm']=ds.storm\n",
    "dk.coords['date_time']=ds.date_time"
   ]
  },
  {
   "cell_type": "code",
   "execution_count": null,
   "id": "norwegian-friendly",
   "metadata": {},
   "outputs": [],
   "source": [
    "print(np.amin(days))\n",
    "print(np.amax(hours))\n",
    "print(dk.hours)"
   ]
  },
  {
   "cell_type": "code",
   "execution_count": null,
   "id": "removed-river",
   "metadata": {},
   "outputs": [],
   "source": [
    "try:\n",
    "    os.remove(dir+'ibtracs_wp_time.nc')\n",
    "except OSError:\n",
    "    pass\n",
    "dk.to_netcdf(dir+'ibtracs_wp_time.nc',mode='w',format='NETCDF4')"
   ]
  },
  {
   "cell_type": "code",
   "execution_count": null,
   "id": "norwegian-mirror",
   "metadata": {},
   "outputs": [],
   "source": [
    "ds1=xr.open_dataset(dir+'ibtracs_wp_time.nc')\n",
    "years=ds1.years\n",
    "months=ds1.months\n",
    "days=ds1.days\n",
    "hours=ds1.hours\n",
    "\n",
    "time_select=dt.datetime(1996,10,21,18)\n",
    "#b=lat.sel(time==time_select)\n",
    "print(time_select)\n",
    "a=lat.where(years==1996,drop=True)\n",
    "a=a.where(months==10,drop=True)\n",
    "a=a.where(days==21,drop=True)\n",
    "a=a.where(hours==18,drop=True)\n",
    "\n",
    "print(a)\n"
   ]
  },
  {
   "cell_type": "code",
   "execution_count": null,
   "id": "coupled-butterfly",
   "metadata": {},
   "outputs": [],
   "source": []
  }
 ],
 "metadata": {
  "kernelspec": {
   "display_name": "Python 3 June 2020 Environment",
   "language": "python",
   "name": "jun20"
  },
  "language_info": {
   "codemirror_mode": {
    "name": "ipython",
    "version": 3
   },
   "file_extension": ".py",
   "mimetype": "text/x-python",
   "name": "python",
   "nbconvert_exporter": "python",
   "pygments_lexer": "ipython3",
   "version": "3.7.6"
  }
 },
 "nbformat": 4,
 "nbformat_minor": 5
}
